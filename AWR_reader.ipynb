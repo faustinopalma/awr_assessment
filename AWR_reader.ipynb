{
 "cells": [
  {
   "cell_type": "code",
   "execution_count": 100,
   "metadata": {},
   "outputs": [],
   "source": [
    "import os\n",
    "from os import walk\n",
    "from bs4 import BeautifulSoup\n",
    "import re\n",
    "import pandas as pd"
   ]
  },
  {
   "cell_type": "code",
   "execution_count": 101,
   "metadata": {},
   "outputs": [],
   "source": [
    "dir_path = os.path.join('.','AWR')\n",
    "awr_paths = []\n",
    "for (dir_path, dir_names, file_names) in walk(dir_path):\n",
    "    file_paths = [os.path.join(dir_path, file_name) for file_name in file_names]\n",
    "    awr_paths.extend(file_paths)"
   ]
  },
  {
   "cell_type": "code",
   "execution_count": 103,
   "metadata": {},
   "outputs": [
    {
     "name": "stdout",
     "output_type": "stream",
     "text": [
      ".\\AWR\\awr_report_ADTGT_10-11.html\n",
      "                            AWR file elapsed_time db_time\n",
      "0  .\\AWR\\awr_report_ADTGT_10-11.html       120.16  113.75\n"
     ]
    }
   ],
   "source": [
    "\n",
    "output = []\n",
    "for awr_path in awr_paths:\n",
    "    print(awr_path)\n",
    "    with open(awr_path) as f:\n",
    "        soup = BeautifulSoup(f)\n",
    "\n",
    "    row = {}\n",
    "    row['AWR file'] = awr_path\n",
    "\n",
    "    # find elapsed time\n",
    "    elapsed_time = soup.find('td', string=re.compile('Elapsed:')).parent.find('td', string=re.compile('mins')).string.strip()\n",
    "    elapsed_time = re.compile('\\d*\\.\\d*').search(elapsed_time).group(0)\n",
    "    row['elapsed_time'] = elapsed_time\n",
    "\n",
    "    # find db time\n",
    "    db_time = soup.find('td', string=re.compile('DB Time:')).parent.find('td', string=re.compile('mins')).string.strip()\n",
    "    db_time = re.compile('\\d*\\.\\d*').search(db_time).group(0)\n",
    "    row['db_time'] = db_time\n",
    "\n",
    "    output.append(row)\n",
    "\n",
    "    break\n",
    "\n",
    "output = pd.DataFrame(output)\n",
    "print(output)\n",
    "    "
   ]
  },
  {
   "cell_type": "code",
   "execution_count": null,
   "metadata": {},
   "outputs": [],
   "source": []
  }
 ],
 "metadata": {
  "kernelspec": {
   "display_name": "Python 3.9.12 ('base')",
   "language": "python",
   "name": "python3"
  },
  "language_info": {
   "codemirror_mode": {
    "name": "ipython",
    "version": 3
   },
   "file_extension": ".py",
   "mimetype": "text/x-python",
   "name": "python",
   "nbconvert_exporter": "python",
   "pygments_lexer": "ipython3",
   "version": "3.9.12"
  },
  "orig_nbformat": 4,
  "vscode": {
   "interpreter": {
    "hash": "64d808311df800ad0f61171fa0815e1d39afa943547948ab14fa002da3efeb66"
   }
  }
 },
 "nbformat": 4,
 "nbformat_minor": 2
}
